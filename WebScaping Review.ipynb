{
    "cells": [
        {
            "cell_type": "markdown",
            "metadata": {},
            "source": "<center>\n    <img src=\"https://gitlab.com/ibm/skills-network/courses/placeholder101/-/raw/master/labs/module%201/images/IDSNlogo.png\" width=\"300\" alt=\"cognitiveclass.ai logo\"  />\n</center>\n"
        },
        {
            "cell_type": "markdown",
            "metadata": {},
            "source": "# **Web Scraping Lab**\n"
        },
        {
            "cell_type": "markdown",
            "metadata": {},
            "source": "Estimated time needed: **30** minutes\n"
        },
        {
            "cell_type": "markdown",
            "metadata": {},
            "source": "## Objectives\n"
        },
        {
            "cell_type": "markdown",
            "metadata": {},
            "source": "After completing this lab you will be able to:\n"
        },
        {
            "cell_type": "markdown",
            "metadata": {},
            "source": "-   Download a webpage using requests module\n-   Scrape all links from a web page\n-   Scrape all image urls from a web page\n-   Scrape data from html tables\n"
        },
        {
            "cell_type": "markdown",
            "metadata": {},
            "source": "## Scrape [www.ibm.com](http://www.ibm.com?cm_mmc=Email_Newsletter-_-Developer_Ed%2BTech-_-WW_WW-_-SkillsNetwork-Courses-IBM-DA0321EN-SkillsNetwork-21426264&cm_mmca1=000026UJ&cm_mmca2=10006555&cm_mmca3=M12345678&cvosrc=email.Newsletter.M12345678&cvo_campaign=000026UJ&cm_mmc=Email_Newsletter-_-Developer_Ed%2BTech-_-WW_WW-_-SkillsNetwork-Courses-IBM-DA0321EN-SkillsNetwork-21426264&cm_mmca1=000026UJ&cm_mmca2=10006555&cm_mmca3=M12345678&cvosrc=email.Newsletter.M12345678&cvo_campaign=000026UJ)\n"
        },
        {
            "cell_type": "markdown",
            "metadata": {},
            "source": "Import the required modules and functions\n"
        },
        {
            "cell_type": "code",
            "execution_count": 1,
            "metadata": {},
            "outputs": [],
            "source": "from bs4 import BeautifulSoup # this module helps in web scrapping.\nimport requests  # this module helps us to download a web page"
        },
        {
            "cell_type": "markdown",
            "metadata": {},
            "source": "Download the contents of the web page\n"
        },
        {
            "cell_type": "code",
            "execution_count": 2,
            "metadata": {},
            "outputs": [],
            "source": "url = \"http://www.ibm.com\""
        },
        {
            "cell_type": "code",
            "execution_count": 3,
            "metadata": {},
            "outputs": [],
            "source": "# get the contents of the webpage in text format and store in a variable called data\ndata  = requests.get(url).text "
        },
        {
            "cell_type": "markdown",
            "metadata": {},
            "source": "Create a soup object using the class BeautifulSoup\n"
        },
        {
            "cell_type": "code",
            "execution_count": 4,
            "metadata": {},
            "outputs": [],
            "source": "soup = BeautifulSoup(data,\"html5lib\")  # create a soup object using the variable 'data'"
        },
        {
            "cell_type": "markdown",
            "metadata": {},
            "source": "Scrape all links\n"
        },
        {
            "cell_type": "code",
            "execution_count": 5,
            "metadata": {},
            "outputs": [
                {
                    "name": "stdout",
                    "output_type": "stream",
                    "text": "#main-content\nhttp://www.ibm.com\nhttps://www.ibm.com/events/think/?lnk=ushpv18l1\nhttps://www.ibm.com/cloud/hybrid/value-calculator/?lnk=ushpv18f1\nhttps://www.ibm.com/thought-leadership/innovation-explanations/ibm-garage?lnk=ushpv18f2\nhttps://www.ibm.com/products/cloud-pak-for-security?lnk=ushpv18f3\nhttps://www.ibm.com/thought-leadership/smart/talks/?lnk=ushpv18f4\nhttps://www.ibm.com/products/offers-and-discounts?link=ushpv18t5&lnk2=trial_mktpl_MPDISC\nhttps://www.ibm.com/products/spectrum-scale?lnk=ushpv18t1&lnk2=trial_SpecScale&psrc=none&pexp=def\nhttps://www.ibm.com/products/supply-chain-business-network?lnk=ushpv18t2&lnk2=trial_SupplyChnBus&prsc=none&pexp=def\nhttps://www.ibm.com/cloud/free?lnk=ushpv18t3&lnk2=trial_Cloud&psrc=none&pexp=def\nhttps://www.ibm.com/products/unified-endpoint-management?lnk=ushpv18t4&lnk2=trial_MaaS360Wat&psrc=none&pexp=def\nhttps://www.ibm.com/search?lnk=ushpv18srch&locale=en-us&q=\nhttps://www.ibm.com/products?lnk=ushpv18p1&lnk2=trial_mktpl&psrc=none&pexp=def\nNone\nNone\nhttps://developer.ibm.com/depmodels/cloud/?lnk=ushpv18ct16\nhttps://developer.ibm.com/technologies/artificial-intelligence?lnk=ushpv18ct19\nhttps://www.ibm.com/demos/?lnk=ushpv18ct12\nhttps://developer.ibm.com/?lnk=ushpv18ct9\nhttps://www.ibm.com/docs/en?lnk=ushpv18ct14\nhttps://www.redbooks.ibm.com/?lnk=ushpv18ct10\nhttps://www.ibm.com/support/home/?lnk=ushpv18ct11\nhttps://www.ibm.com/training/?lnk=ushpv18ct15\nhttps://www.ibm.com/cloud/hybrid?lnk=ushpv18ct20\nhttps://www.ibm.com/cloud/learn/public-cloud?lnk=ushpv18ct17\nhttps://www.ibm.com/cloud/redhat?lnk=ushpv18ct13\nhttps://www.ibm.com/artificial-intelligence?lnk=ushpv18ct3\nhttps://www.ibm.com/quantum-computing?lnk=ushpv18ct18\nhttps://www.ibm.com/cloud/learn/kubernetes?lnk=ushpv18ct8\nhttps://www.ibm.com/products/spss-statistics?lnk=ushpv18ct7\nhttps://www.ibm.com/blockchain?lnk=ushpv18ct1\nhttps://www-03.ibm.com/employment/technicaltalent/developer/?lnk=ushpv18ct2\nhttps://www.ibm.com/search?lnk=ushpv18srch&locale=en-us&q=\nhttps://www.ibm.com/products?lnk=ushpv18p1&lnk2=trial_mktpl&psrc=none&pexp=def\nNone\nNone\nhttps://www.ibm.com/cloud/hybrid?lnk=ushpv18pt14&bv=true\nhttps://www.ibm.com/watson?lnk=ushpv18pt17&bv=true\nhttps://www.ibm.com/us-en/products/categories?technologyTopics[0][0]=cat.topic:Blockchain&isIBMOffering[0]=true&lnk=ushpv18pt4&bv=true\nhttps://www.ibm.com/us-en/products/category/technology/analytics?lnk=ushpv18pt1&bv=true\nhttps://www.ibm.com/financing?lnk=ushpv18pt3&bv=true\nhttps://www.ibm.com/cloud/public?lnk=ushpv18pt15&bv=true\nhttps://www.ibm.com/garage?lnk=ushpv18pt13&bv=true\nhttps://www.ibm.com/thought-leadership/institute-business-value/?lnk=ushpv18pt12&bv=true\nhttps://www.ibm.com/us-en/products/category/technology/security?lnk=ushpv18pt9&bv=true\nhttps://www.ibm.com/quantum-computing?lnk=ushpv18pt16&bv=true\nhttps://www.ibm.com/cloud/hybrid?lnk=ushpv18ct20\nhttps://www.ibm.com/cloud/public?lnk=ushpv18ct17\nhttps://www.ibm.com/cloud/redhat?lnk=ushpv18ct13\nhttps://www.ibm.com/artificial-intelligence?lnk=ushpv18ct3\nhttps://www.ibm.com/quantum-computing?lnk=ushpv18ct18\nhttps://www.ibm.com/cloud/learn/kubernetes?lnk=ushpv18ct8\nhttps://www.ibm.com/products/spss-statistics?lnk=ushpv18ct7\nhttps://www.ibm.com/blockchain?lnk=ushpv18ct1\nhttps://www-03.ibm.com/employment/technicaltalent/developer/?lnk=ushpv18ct2\nhttps://www.ibm.com/\n"
                }
            ],
            "source": "for link in soup.find_all('a'):  # in html anchor/link is represented by the tag <a>\n    print(link.get('href'))"
        },
        {
            "cell_type": "markdown",
            "metadata": {},
            "source": "Scrape  all images\n"
        },
        {
            "cell_type": "code",
            "execution_count": 6,
            "metadata": {},
            "outputs": [
                {
                    "name": "stdout",
                    "output_type": "stream",
                    "text": "data:image/svg+xml;base64,PHN2ZyB3aWR0aD0iMTA1NSIgaGVpZ2h0PSI1MjcuNSIgeG1sbnM9Imh0dHA6Ly93d3cudzMub3JnLzIwMDAvc3ZnIiB2ZXJzaW9uPSIxLjEiLz4=\nhttps://1.dam.s81c.com/public/content/dam/worldwide-content/homepage/ul/g/90/94/20210426-think2021-registration-25856-720x360.jpg\ndata:image/svg+xml;base64,PHN2ZyB3aWR0aD0iNDQwIiBoZWlnaHQ9IjMyMCIgeG1sbnM9Imh0dHA6Ly93d3cudzMub3JnLzIwMDAvc3ZnIiB2ZXJzaW9uPSIxLjEiLz4=\nhttps://1.dam.s81c.com/public/content/dam/worldwide-content/homepage/ul/g/18/52/20210426-f-hybrid-cloud-value-calculator.jpg\ndata:image/svg+xml;base64,PHN2ZyB3aWR0aD0iNDQwIiBoZWlnaHQ9IjMyMCIgeG1sbnM9Imh0dHA6Ly93d3cudzMub3JnLzIwMDAvc3ZnIiB2ZXJzaW9uPSIxLjEiLz4=\nhttps://1.dam.s81c.com/public/content/dam/worldwide-content/homepage/ul/g/07/44/20210510-innovation-explanations-Reintz-Garage-25804-444x320.jpg\ndata:image/svg+xml;base64,PHN2ZyB3aWR0aD0iNDQwIiBoZWlnaHQ9IjMyMCIgeG1sbnM9Imh0dHA6Ly93d3cudzMub3JnLzIwMDAvc3ZnIiB2ZXJzaW9uPSIxLjEiLz4=\n https://1.dam.s81c.com/public/content/dam/worldwide-content/homepage/ul/g/c6/9b/20210510-f-cloud-pak-for-security.jpg\ndata:image/svg+xml;base64,PHN2ZyB3aWR0aD0iNDQwIiBoZWlnaHQ9IjMyMCIgeG1sbnM9Imh0dHA6Ly93d3cudzMub3JnLzIwMDAvc3ZnIiB2ZXJzaW9uPSIxLjEiLz4=\nhttps://1.dam.s81c.com/public/content/dam/worldwide-content/homepage/ul/g/a8/c6/20210510-f-smart-talks-women-leaders-in-ai.jpg\ndata:image/svg+xml;base64,PHN2ZyB3aWR0aD0iNDQwIiBoZWlnaHQ9IjI2MCIgeG1sbnM9Imh0dHA6Ly93d3cudzMub3JnLzIwMDAvc3ZnIiB2ZXJzaW9uPSIxLjEiLz4=\nhttps://1.dam.s81c.com/public/content/dam/worldwide-content/homepage/ul/g/40/3a/Spectrum-Scale-23705-700x420.png\ndata:image/gif;base64,R0lGODlhAQABAIAAAAAAAP///yH5BAEAAAAALAAAAAABAAEAAAIBRAA7\ndata:image/svg+xml;base64,PHN2ZyB3aWR0aD0iNDQwIiBoZWlnaHQ9IjI2MCIgeG1sbnM9Imh0dHA6Ly93d3cudzMub3JnLzIwMDAvc3ZnIiB2ZXJzaW9uPSIxLjEiLz4=\nhttps://1.dam.s81c.com/public/content/dam/worldwide-content/homepage/ul/g/6d/94/Sterling-Supply-Chain_700x420.png\ndata:image/gif;base64,R0lGODlhAQABAIAAAAAAAP///yH5BAEAAAAALAAAAAABAAEAAAIBRAA7\ndata:image/svg+xml;base64,PHN2ZyB3aWR0aD0iNDQwIiBoZWlnaHQ9IjI2MCIgeG1sbnM9Imh0dHA6Ly93d3cudzMub3JnLzIwMDAvc3ZnIiB2ZXJzaW9uPSIxLjEiLz4=\nhttps://1.dam.s81c.com/public/content/dam/worldwide-content/homepage/ul/g/54/79/IBM-Cloud-23059-700x420.png\ndata:image/gif;base64,R0lGODlhAQABAIAAAAAAAP///yH5BAEAAAAALAAAAAABAAEAAAIBRAA7\ndata:image/svg+xml;base64,PHN2ZyB3aWR0aD0iNDQwIiBoZWlnaHQ9IjI2MCIgeG1sbnM9Imh0dHA6Ly93d3cudzMub3JnLzIwMDAvc3ZnIiB2ZXJzaW9uPSIxLjEiLz4=\nhttps://1.dam.s81c.com/public/content/dam/worldwide-content/homepage/ul/g/4c/a5/10072019-t-bt-MaaS360-watson-23210-700x420.png\ndata:image/gif;base64,R0lGODlhAQABAIAAAAAAAP///yH5BAEAAAAALAAAAAABAAEAAAIBRAA7\n"
                }
            ],
            "source": "for link in soup.find_all('img'):# in html image is represented by the tag <img>\n    print(link.get('src'))"
        },
        {
            "cell_type": "markdown",
            "metadata": {},
            "source": "## Scrape data from html tables\n"
        },
        {
            "cell_type": "code",
            "execution_count": null,
            "metadata": {},
            "outputs": [],
            "source": "#The below url contains a html table with data about colors and color codes."
        },
        {
            "cell_type": "code",
            "execution_count": 7,
            "metadata": {},
            "outputs": [],
            "source": "url = \"https://cf-courses-data.s3.us.cloud-object-storage.appdomain.cloud/IBM-DA0321EN-SkillsNetwork/labs/datasets/HTMLColorCodes.html\""
        },
        {
            "cell_type": "markdown",
            "metadata": {},
            "source": "Before proceeding to scrape a web site, you need to examine the contents, and the way data is organized on the website. Open the above url in your browser and check how many rows and columns are there in the color table.\n"
        },
        {
            "cell_type": "code",
            "execution_count": 8,
            "metadata": {},
            "outputs": [],
            "source": "# get the contents of the webpage in text format and store in a variable called data\ndata  = requests.get(url).text"
        },
        {
            "cell_type": "code",
            "execution_count": 9,
            "metadata": {},
            "outputs": [],
            "source": "soup = BeautifulSoup(data,\"html5lib\")"
        },
        {
            "cell_type": "code",
            "execution_count": 10,
            "metadata": {},
            "outputs": [],
            "source": "#find a html table in the web page\ntable = soup.find('table') # in html table is represented by the tag <table>"
        },
        {
            "cell_type": "code",
            "execution_count": 11,
            "metadata": {},
            "outputs": [
                {
                    "name": "stdout",
                    "output_type": "stream",
                    "text": "Color Name--->Hex Code#RRGGBB\nlightsalmon--->#FFA07A\nsalmon--->#FA8072\ndarksalmon--->#E9967A\nlightcoral--->#F08080\ncoral--->#FF7F50\ntomato--->#FF6347\norangered--->#FF4500\ngold--->#FFD700\norange--->#FFA500\ndarkorange--->#FF8C00\nlightyellow--->#FFFFE0\nlemonchiffon--->#FFFACD\npapayawhip--->#FFEFD5\nmoccasin--->#FFE4B5\npeachpuff--->#FFDAB9\npalegoldenrod--->#EEE8AA\nkhaki--->#F0E68C\ndarkkhaki--->#BDB76B\nyellow--->#FFFF00\nlawngreen--->#7CFC00\nchartreuse--->#7FFF00\nlimegreen--->#32CD32\nlime--->#00FF00\nforestgreen--->#228B22\ngreen--->#008000\npowderblue--->#B0E0E6\nlightblue--->#ADD8E6\nlightskyblue--->#87CEFA\nskyblue--->#87CEEB\ndeepskyblue--->#00BFFF\nlightsteelblue--->#B0C4DE\ndodgerblue--->#1E90FF\n"
                }
            ],
            "source": "#Get all rows from the table\nfor row in table.find_all('tr'): # in html table row is represented by the tag <tr>\n    # Get all columns in each row.\n    cols = row.find_all('td') # in html a column is represented by the tag <td>\n    color_name = cols[2].getText() # store the value in column 3 as color_name\n    color_code = cols[3].getText() # store the value in column 4 as color_code\n    print(\"{}--->{}\".format(color_name,color_code))"
        },
        {
            "cell_type": "markdown",
            "metadata": {},
            "source": "## Authors\n"
        },
        {
            "cell_type": "markdown",
            "metadata": {},
            "source": "Ramesh Sannareddy\n"
        },
        {
            "cell_type": "markdown",
            "metadata": {},
            "source": "### Other Contributors\n"
        },
        {
            "cell_type": "markdown",
            "metadata": {},
            "source": "Rav Ahuja\n"
        },
        {
            "cell_type": "markdown",
            "metadata": {},
            "source": "## Change Log\n"
        },
        {
            "cell_type": "markdown",
            "metadata": {},
            "source": "| Date (YYYY-MM-DD) | Version | Changed By        | Change Description                 |\n| ----------------- | ------- | ----------------- | ---------------------------------- |\n| 2020-10-17        | 0.1     | Ramesh Sannareddy | Created initial version of the lab |\n"
        },
        {
            "cell_type": "markdown",
            "metadata": {},
            "source": " Copyright \u00a9 2020 IBM Corporation. This notebook and its source code are released under the terms of the [MIT License](https://cognitiveclass.ai/mit-license?cm_mmc=Email_Newsletter-_-Developer_Ed%2BTech-_-WW_WW-_-SkillsNetwork-Courses-IBM-DA0321EN-SkillsNetwork-21426264&cm_mmca1=000026UJ&cm_mmca2=10006555&cm_mmca3=M12345678&cvosrc=email.Newsletter.M12345678&cvo_campaign=000026UJ&cm_mmc=Email_Newsletter-_-Developer_Ed%2BTech-_-WW_WW-_-SkillsNetwork-Courses-IBM-DA0321EN-SkillsNetwork-21426264&cm_mmca1=000026UJ&cm_mmca2=10006555&cm_mmca3=M12345678&cvosrc=email.Newsletter.M12345678&cvo_campaign=000026UJ&cm_mmc=Email_Newsletter-_-Developer_Ed%2BTech-_-WW_WW-_-SkillsNetwork-Courses-IBM-DA0321EN-SkillsNetwork-21426264&cm_mmca1=000026UJ&cm_mmca2=10006555&cm_mmca3=M12345678&cvosrc=email.Newsletter.M12345678&cvo_campaign=000026UJ&cm_mmc=Email_Newsletter-_-Developer_Ed%2BTech-_-WW_WW-_-SkillsNetwork-Courses-IBM-DA0321EN-SkillsNetwork-21426264&cm_mmca1=000026UJ&cm_mmca2=10006555&cm_mmca3=M12345678&cvosrc=email.Newsletter.M12345678&cvo_campaign=000026UJ).\n"
        }
    ],
    "metadata": {
        "kernelspec": {
            "display_name": "Python 3.7",
            "language": "python",
            "name": "python3"
        },
        "language_info": {
            "codemirror_mode": {
                "name": "ipython",
                "version": 3
            },
            "file_extension": ".py",
            "mimetype": "text/x-python",
            "name": "python",
            "nbconvert_exporter": "python",
            "pygments_lexer": "ipython3",
            "version": "3.7.10"
        }
    },
    "nbformat": 4,
    "nbformat_minor": 4
}