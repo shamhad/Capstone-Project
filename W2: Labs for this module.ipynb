{
    "cells": [
        {
            "cell_type": "markdown",
            "metadata": {},
            "source": "<center>\n    <img src=\"https://gitlab.com/ibm/skills-network/courses/placeholder101/-/raw/master/labs/module%201/images/IDSNlogo.png\" width=\"300\" alt=\"cognitiveclass.ai logo\"  />\n</center>\n"
        },
        {
            "cell_type": "markdown",
            "metadata": {},
            "source": "# **Data Wrangling Lab**\n"
        },
        {
            "cell_type": "markdown",
            "metadata": {},
            "source": "Estimated time needed: **45 to 60** minutes\n"
        },
        {
            "cell_type": "markdown",
            "metadata": {},
            "source": "In this assignment you will be performing data wrangling.\n"
        },
        {
            "cell_type": "markdown",
            "metadata": {},
            "source": "## Objectives\n"
        },
        {
            "cell_type": "markdown",
            "metadata": {},
            "source": "In this lab you will perform the following:\n"
        },
        {
            "cell_type": "markdown",
            "metadata": {},
            "source": "-   Identify duplicate values in the dataset.\n\n-   Remove duplicate values from the dataset.\n\n-   Identify missing values in the dataset.\n\n-   Impute the missing values in the dataset.\n\n-   Normalize data in the dataset.\n"
        },
        {
            "cell_type": "markdown",
            "metadata": {},
            "source": "<hr>\n"
        },
        {
            "cell_type": "markdown",
            "metadata": {},
            "source": "## Hands on Lab\n"
        },
        {
            "cell_type": "markdown",
            "metadata": {},
            "source": "Import pandas module.\n"
        },
        {
            "cell_type": "code",
            "execution_count": 2,
            "metadata": {},
            "outputs": [],
            "source": "import pandas as pd"
        },
        {
            "cell_type": "markdown",
            "metadata": {},
            "source": "Load the dataset into a dataframe.\n"
        },
        {
            "cell_type": "code",
            "execution_count": 3,
            "metadata": {},
            "outputs": [],
            "source": "df = pd.read_csv(\"https://cf-courses-data.s3.us.cloud-object-storage.appdomain.cloud/IBM-DA0321EN-SkillsNetwork/LargeData/m1_survey_data.csv\")"
        },
        {
            "cell_type": "markdown",
            "metadata": {},
            "source": "## Finding duplicates\n"
        },
        {
            "cell_type": "markdown",
            "metadata": {},
            "source": "In this section you will identify duplicate values in the dataset.\n"
        },
        {
            "cell_type": "markdown",
            "metadata": {},
            "source": " Find how many duplicate rows exist in the dataframe.\n"
        },
        {
            "cell_type": "code",
            "execution_count": 4,
            "metadata": {},
            "outputs": [
                {
                    "data": {
                        "text/html": "<div>\n<style scoped>\n    .dataframe tbody tr th:only-of-type {\n        vertical-align: middle;\n    }\n\n    .dataframe tbody tr th {\n        vertical-align: top;\n    }\n\n    .dataframe thead th {\n        text-align: right;\n    }\n</style>\n<table border=\"1\" class=\"dataframe\">\n  <thead>\n    <tr style=\"text-align: right;\">\n      <th></th>\n      <th>Respondent</th>\n      <th>MainBranch</th>\n      <th>Hobbyist</th>\n      <th>OpenSourcer</th>\n      <th>OpenSource</th>\n      <th>Employment</th>\n      <th>Country</th>\n      <th>Student</th>\n      <th>EdLevel</th>\n      <th>UndergradMajor</th>\n      <th>...</th>\n      <th>WelcomeChange</th>\n      <th>SONewContent</th>\n      <th>Age</th>\n      <th>Gender</th>\n      <th>Trans</th>\n      <th>Sexuality</th>\n      <th>Ethnicity</th>\n      <th>Dependents</th>\n      <th>SurveyLength</th>\n      <th>SurveyEase</th>\n    </tr>\n  </thead>\n  <tbody>\n    <tr>\n      <th>1168</th>\n      <td>2339</td>\n      <td>I am a developer by profession</td>\n      <td>Yes</td>\n      <td>Once a month or more often</td>\n      <td>OSS is, on average, of HIGHER quality than pro...</td>\n      <td>Employed full-time</td>\n      <td>United States</td>\n      <td>No</td>\n      <td>Some college/university study without earning ...</td>\n      <td>Computer science, computer engineering, or sof...</td>\n      <td>...</td>\n      <td>Just as welcome now as I felt last year</td>\n      <td>NaN</td>\n      <td>24.0</td>\n      <td>Man</td>\n      <td>No</td>\n      <td>Straight / Heterosexual</td>\n      <td>White or of European descent</td>\n      <td>No</td>\n      <td>Appropriate in length</td>\n      <td>Easy</td>\n    </tr>\n    <tr>\n      <th>1169</th>\n      <td>2342</td>\n      <td>I am a developer by profession</td>\n      <td>Yes</td>\n      <td>Never</td>\n      <td>The quality of OSS and closed source software ...</td>\n      <td>Employed full-time</td>\n      <td>United Kingdom</td>\n      <td>No</td>\n      <td>Some college/university study without earning ...</td>\n      <td>Information systems, information technology, o...</td>\n      <td>...</td>\n      <td>Somewhat more welcome now than last year</td>\n      <td>Tech meetups or events in your area;Courses on...</td>\n      <td>24.0</td>\n      <td>Man</td>\n      <td>No</td>\n      <td>Straight / Heterosexual</td>\n      <td>White or of European descent</td>\n      <td>No</td>\n      <td>Too long</td>\n      <td>Easy</td>\n    </tr>\n    <tr>\n      <th>1170</th>\n      <td>2343</td>\n      <td>I am a developer by profession</td>\n      <td>Yes</td>\n      <td>Less than once a month but more than once per ...</td>\n      <td>OSS is, on average, of LOWER quality than prop...</td>\n      <td>Employed full-time</td>\n      <td>Canada</td>\n      <td>No</td>\n      <td>Master\u2019s degree (MA, MS, M.Eng., MBA, etc.)</td>\n      <td>Computer science, computer engineering, or sof...</td>\n      <td>...</td>\n      <td>Somewhat more welcome now than last year</td>\n      <td>Tech articles written by other developers;Indu...</td>\n      <td>27.0</td>\n      <td>Man</td>\n      <td>No</td>\n      <td>Straight / Heterosexual</td>\n      <td>Black or of African descent;White or of Europe...</td>\n      <td>No</td>\n      <td>Appropriate in length</td>\n      <td>Neither easy nor difficult</td>\n    </tr>\n    <tr>\n      <th>1171</th>\n      <td>2344</td>\n      <td>I am a developer by profession</td>\n      <td>Yes</td>\n      <td>Never</td>\n      <td>The quality of OSS and closed source software ...</td>\n      <td>Employed full-time</td>\n      <td>United States</td>\n      <td>No</td>\n      <td>Bachelor\u2019s degree (BA, BS, B.Eng., etc.)</td>\n      <td>Computer science, computer engineering, or sof...</td>\n      <td>...</td>\n      <td>Just as welcome now as I felt last year</td>\n      <td>Tech articles written by other developers;Indu...</td>\n      <td>24.0</td>\n      <td>Man</td>\n      <td>No</td>\n      <td>Straight / Heterosexual</td>\n      <td>White or of European descent</td>\n      <td>No</td>\n      <td>Appropriate in length</td>\n      <td>Easy</td>\n    </tr>\n    <tr>\n      <th>1172</th>\n      <td>2347</td>\n      <td>I am a developer by profession</td>\n      <td>Yes</td>\n      <td>Never</td>\n      <td>OSS is, on average, of HIGHER quality than pro...</td>\n      <td>Employed full-time</td>\n      <td>United Kingdom</td>\n      <td>No</td>\n      <td>Master\u2019s degree (MA, MS, M.Eng., MBA, etc.)</td>\n      <td>Computer science, computer engineering, or sof...</td>\n      <td>...</td>\n      <td>Just as welcome now as I felt last year</td>\n      <td>NaN</td>\n      <td>NaN</td>\n      <td>Woman</td>\n      <td>No</td>\n      <td>Straight / Heterosexual</td>\n      <td>Biracial</td>\n      <td>No</td>\n      <td>Too long</td>\n      <td>Easy</td>\n    </tr>\n    <tr>\n      <th>...</th>\n      <td>...</td>\n      <td>...</td>\n      <td>...</td>\n      <td>...</td>\n      <td>...</td>\n      <td>...</td>\n      <td>...</td>\n      <td>...</td>\n      <td>...</td>\n      <td>...</td>\n      <td>...</td>\n      <td>...</td>\n      <td>...</td>\n      <td>...</td>\n      <td>...</td>\n      <td>...</td>\n      <td>...</td>\n      <td>...</td>\n      <td>...</td>\n      <td>...</td>\n      <td>...</td>\n    </tr>\n    <tr>\n      <th>2297</th>\n      <td>4674</td>\n      <td>I am not primarily a developer, but I write co...</td>\n      <td>Yes</td>\n      <td>Less than once per year</td>\n      <td>The quality of OSS and closed source software ...</td>\n      <td>Employed full-time</td>\n      <td>Bangladesh</td>\n      <td>No</td>\n      <td>Bachelor\u2019s degree (BA, BS, B.Eng., etc.)</td>\n      <td>NaN</td>\n      <td>...</td>\n      <td>Somewhat less welcome now than last year</td>\n      <td>Tech articles written by other developers;Indu...</td>\n      <td>31.0</td>\n      <td>Man</td>\n      <td>No</td>\n      <td>Bisexual;Gay or Lesbian;Straight / Heterosexual</td>\n      <td>Black or of African descent;Hispanic or Latino...</td>\n      <td>Yes</td>\n      <td>Too long</td>\n      <td>Neither easy nor difficult</td>\n    </tr>\n    <tr>\n      <th>2298</th>\n      <td>4675</td>\n      <td>I am a developer by profession</td>\n      <td>Yes</td>\n      <td>Never</td>\n      <td>OSS is, on average, of HIGHER quality than pro...</td>\n      <td>Employed full-time</td>\n      <td>United States</td>\n      <td>No</td>\n      <td>Bachelor\u2019s degree (BA, BS, B.Eng., etc.)</td>\n      <td>Information systems, information technology, o...</td>\n      <td>...</td>\n      <td>Just as welcome now as I felt last year</td>\n      <td>Tech meetups or events in your area</td>\n      <td>27.0</td>\n      <td>Man</td>\n      <td>No</td>\n      <td>Straight / Heterosexual</td>\n      <td>White or of European descent</td>\n      <td>No</td>\n      <td>Appropriate in length</td>\n      <td>Easy</td>\n    </tr>\n    <tr>\n      <th>2299</th>\n      <td>4676</td>\n      <td>I am a developer by profession</td>\n      <td>Yes</td>\n      <td>Never</td>\n      <td>OSS is, on average, of HIGHER quality than pro...</td>\n      <td>Employed full-time</td>\n      <td>Finland</td>\n      <td>No</td>\n      <td>Master\u2019s degree (MA, MS, M.Eng., MBA, etc.)</td>\n      <td>Another engineering discipline (ex. civil, ele...</td>\n      <td>...</td>\n      <td>Somewhat less welcome now than last year</td>\n      <td>NaN</td>\n      <td>36.0</td>\n      <td>Man</td>\n      <td>No</td>\n      <td>Straight / Heterosexual</td>\n      <td>White or of European descent</td>\n      <td>Yes</td>\n      <td>Too long</td>\n      <td>Easy</td>\n    </tr>\n    <tr>\n      <th>2300</th>\n      <td>4677</td>\n      <td>I am a developer by profession</td>\n      <td>Yes</td>\n      <td>Once a month or more often</td>\n      <td>OSS is, on average, of HIGHER quality than pro...</td>\n      <td>Employed full-time</td>\n      <td>United Kingdom</td>\n      <td>No</td>\n      <td>Bachelor\u2019s degree (BA, BS, B.Eng., etc.)</td>\n      <td>A natural science (ex. biology, chemistry, phy...</td>\n      <td>...</td>\n      <td>Just as welcome now as I felt last year</td>\n      <td>NaN</td>\n      <td>40.0</td>\n      <td>Man</td>\n      <td>No</td>\n      <td>Straight / Heterosexual</td>\n      <td>White or of European descent</td>\n      <td>Yes</td>\n      <td>Appropriate in length</td>\n      <td>Easy</td>\n    </tr>\n    <tr>\n      <th>2301</th>\n      <td>4679</td>\n      <td>I am a developer by profession</td>\n      <td>Yes</td>\n      <td>Less than once a month but more than once per ...</td>\n      <td>The quality of OSS and closed source software ...</td>\n      <td>Employed full-time</td>\n      <td>United States</td>\n      <td>No</td>\n      <td>Master\u2019s degree (MA, MS, M.Eng., MBA, etc.)</td>\n      <td>Computer science, computer engineering, or sof...</td>\n      <td>...</td>\n      <td>Just as welcome now as I felt last year</td>\n      <td>NaN</td>\n      <td>27.0</td>\n      <td>Man</td>\n      <td>No</td>\n      <td>NaN</td>\n      <td>White or of European descent</td>\n      <td>No</td>\n      <td>Appropriate in length</td>\n      <td>Easy</td>\n    </tr>\n  </tbody>\n</table>\n<p>154 rows \u00d7 85 columns</p>\n</div>",
                        "text/plain": "      Respondent                                         MainBranch Hobbyist  \\\n1168        2339                     I am a developer by profession      Yes   \n1169        2342                     I am a developer by profession      Yes   \n1170        2343                     I am a developer by profession      Yes   \n1171        2344                     I am a developer by profession      Yes   \n1172        2347                     I am a developer by profession      Yes   \n...          ...                                                ...      ...   \n2297        4674  I am not primarily a developer, but I write co...      Yes   \n2298        4675                     I am a developer by profession      Yes   \n2299        4676                     I am a developer by profession      Yes   \n2300        4677                     I am a developer by profession      Yes   \n2301        4679                     I am a developer by profession      Yes   \n\n                                            OpenSourcer  \\\n1168                         Once a month or more often   \n1169                                              Never   \n1170  Less than once a month but more than once per ...   \n1171                                              Never   \n1172                                              Never   \n...                                                 ...   \n2297                            Less than once per year   \n2298                                              Never   \n2299                                              Never   \n2300                         Once a month or more often   \n2301  Less than once a month but more than once per ...   \n\n                                             OpenSource          Employment  \\\n1168  OSS is, on average, of HIGHER quality than pro...  Employed full-time   \n1169  The quality of OSS and closed source software ...  Employed full-time   \n1170  OSS is, on average, of LOWER quality than prop...  Employed full-time   \n1171  The quality of OSS and closed source software ...  Employed full-time   \n1172  OSS is, on average, of HIGHER quality than pro...  Employed full-time   \n...                                                 ...                 ...   \n2297  The quality of OSS and closed source software ...  Employed full-time   \n2298  OSS is, on average, of HIGHER quality than pro...  Employed full-time   \n2299  OSS is, on average, of HIGHER quality than pro...  Employed full-time   \n2300  OSS is, on average, of HIGHER quality than pro...  Employed full-time   \n2301  The quality of OSS and closed source software ...  Employed full-time   \n\n             Country Student  \\\n1168   United States      No   \n1169  United Kingdom      No   \n1170          Canada      No   \n1171   United States      No   \n1172  United Kingdom      No   \n...              ...     ...   \n2297      Bangladesh      No   \n2298   United States      No   \n2299         Finland      No   \n2300  United Kingdom      No   \n2301   United States      No   \n\n                                                EdLevel  \\\n1168  Some college/university study without earning ...   \n1169  Some college/university study without earning ...   \n1170        Master\u2019s degree (MA, MS, M.Eng., MBA, etc.)   \n1171           Bachelor\u2019s degree (BA, BS, B.Eng., etc.)   \n1172        Master\u2019s degree (MA, MS, M.Eng., MBA, etc.)   \n...                                                 ...   \n2297           Bachelor\u2019s degree (BA, BS, B.Eng., etc.)   \n2298           Bachelor\u2019s degree (BA, BS, B.Eng., etc.)   \n2299        Master\u2019s degree (MA, MS, M.Eng., MBA, etc.)   \n2300           Bachelor\u2019s degree (BA, BS, B.Eng., etc.)   \n2301        Master\u2019s degree (MA, MS, M.Eng., MBA, etc.)   \n\n                                         UndergradMajor  ...  \\\n1168  Computer science, computer engineering, or sof...  ...   \n1169  Information systems, information technology, o...  ...   \n1170  Computer science, computer engineering, or sof...  ...   \n1171  Computer science, computer engineering, or sof...  ...   \n1172  Computer science, computer engineering, or sof...  ...   \n...                                                 ...  ...   \n2297                                                NaN  ...   \n2298  Information systems, information technology, o...  ...   \n2299  Another engineering discipline (ex. civil, ele...  ...   \n2300  A natural science (ex. biology, chemistry, phy...  ...   \n2301  Computer science, computer engineering, or sof...  ...   \n\n                                 WelcomeChange  \\\n1168   Just as welcome now as I felt last year   \n1169  Somewhat more welcome now than last year   \n1170  Somewhat more welcome now than last year   \n1171   Just as welcome now as I felt last year   \n1172   Just as welcome now as I felt last year   \n...                                        ...   \n2297  Somewhat less welcome now than last year   \n2298   Just as welcome now as I felt last year   \n2299  Somewhat less welcome now than last year   \n2300   Just as welcome now as I felt last year   \n2301   Just as welcome now as I felt last year   \n\n                                           SONewContent   Age Gender Trans  \\\n1168                                                NaN  24.0    Man    No   \n1169  Tech meetups or events in your area;Courses on...  24.0    Man    No   \n1170  Tech articles written by other developers;Indu...  27.0    Man    No   \n1171  Tech articles written by other developers;Indu...  24.0    Man    No   \n1172                                                NaN   NaN  Woman    No   \n...                                                 ...   ...    ...   ...   \n2297  Tech articles written by other developers;Indu...  31.0    Man    No   \n2298                Tech meetups or events in your area  27.0    Man    No   \n2299                                                NaN  36.0    Man    No   \n2300                                                NaN  40.0    Man    No   \n2301                                                NaN  27.0    Man    No   \n\n                                            Sexuality  \\\n1168                          Straight / Heterosexual   \n1169                          Straight / Heterosexual   \n1170                          Straight / Heterosexual   \n1171                          Straight / Heterosexual   \n1172                          Straight / Heterosexual   \n...                                               ...   \n2297  Bisexual;Gay or Lesbian;Straight / Heterosexual   \n2298                          Straight / Heterosexual   \n2299                          Straight / Heterosexual   \n2300                          Straight / Heterosexual   \n2301                                              NaN   \n\n                                              Ethnicity Dependents  \\\n1168                       White or of European descent         No   \n1169                       White or of European descent         No   \n1170  Black or of African descent;White or of Europe...         No   \n1171                       White or of European descent         No   \n1172                                           Biracial         No   \n...                                                 ...        ...   \n2297  Black or of African descent;Hispanic or Latino...        Yes   \n2298                       White or of European descent         No   \n2299                       White or of European descent        Yes   \n2300                       White or of European descent        Yes   \n2301                       White or of European descent         No   \n\n               SurveyLength                  SurveyEase  \n1168  Appropriate in length                        Easy  \n1169               Too long                        Easy  \n1170  Appropriate in length  Neither easy nor difficult  \n1171  Appropriate in length                        Easy  \n1172               Too long                        Easy  \n...                     ...                         ...  \n2297               Too long  Neither easy nor difficult  \n2298  Appropriate in length                        Easy  \n2299               Too long                        Easy  \n2300  Appropriate in length                        Easy  \n2301  Appropriate in length                        Easy  \n\n[154 rows x 85 columns]"
                    },
                    "execution_count": 4,
                    "metadata": {},
                    "output_type": "execute_result"
                }
            ],
            "source": "# your code goes here\nduplicate = df[df.duplicated()]\nduplicate"
        },
        {
            "cell_type": "markdown",
            "metadata": {},
            "source": "## Removing duplicates\n"
        },
        {
            "cell_type": "markdown",
            "metadata": {},
            "source": "Remove the duplicate rows from the dataframe.\n"
        },
        {
            "cell_type": "code",
            "execution_count": 5,
            "metadata": {},
            "outputs": [],
            "source": "# your code goes here\ndf.drop_duplicates(subset=None, inplace=True, ignore_index=False)"
        },
        {
            "cell_type": "markdown",
            "metadata": {},
            "source": "Verify if duplicates were actually dropped.\n"
        },
        {
            "cell_type": "code",
            "execution_count": 6,
            "metadata": {},
            "outputs": [
                {
                    "data": {
                        "text/plain": "(11398, 85)"
                    },
                    "execution_count": 6,
                    "metadata": {},
                    "output_type": "execute_result"
                }
            ],
            "source": "# your code goes here\ndf.shape"
        },
        {
            "cell_type": "markdown",
            "metadata": {},
            "source": "## Finding Missing values\n"
        },
        {
            "cell_type": "markdown",
            "metadata": {},
            "source": "Find the missing values for all columns.\n"
        },
        {
            "cell_type": "code",
            "execution_count": 7,
            "metadata": {},
            "outputs": [
                {
                    "data": {
                        "text/html": "<div>\n<style scoped>\n    .dataframe tbody tr th:only-of-type {\n        vertical-align: middle;\n    }\n\n    .dataframe tbody tr th {\n        vertical-align: top;\n    }\n\n    .dataframe thead th {\n        text-align: right;\n    }\n</style>\n<table border=\"1\" class=\"dataframe\">\n  <thead>\n    <tr style=\"text-align: right;\">\n      <th></th>\n      <th>Respondent</th>\n      <th>MainBranch</th>\n      <th>Hobbyist</th>\n      <th>OpenSourcer</th>\n      <th>OpenSource</th>\n      <th>Employment</th>\n      <th>Country</th>\n      <th>Student</th>\n      <th>EdLevel</th>\n      <th>UndergradMajor</th>\n      <th>...</th>\n      <th>WelcomeChange</th>\n      <th>SONewContent</th>\n      <th>Age</th>\n      <th>Gender</th>\n      <th>Trans</th>\n      <th>Sexuality</th>\n      <th>Ethnicity</th>\n      <th>Dependents</th>\n      <th>SurveyLength</th>\n      <th>SurveyEase</th>\n    </tr>\n  </thead>\n  <tbody>\n    <tr>\n      <th>0</th>\n      <td>False</td>\n      <td>False</td>\n      <td>False</td>\n      <td>False</td>\n      <td>False</td>\n      <td>False</td>\n      <td>False</td>\n      <td>False</td>\n      <td>False</td>\n      <td>False</td>\n      <td>...</td>\n      <td>False</td>\n      <td>False</td>\n      <td>False</td>\n      <td>False</td>\n      <td>False</td>\n      <td>False</td>\n      <td>False</td>\n      <td>False</td>\n      <td>False</td>\n      <td>False</td>\n    </tr>\n    <tr>\n      <th>1</th>\n      <td>False</td>\n      <td>False</td>\n      <td>False</td>\n      <td>False</td>\n      <td>False</td>\n      <td>False</td>\n      <td>False</td>\n      <td>False</td>\n      <td>False</td>\n      <td>False</td>\n      <td>...</td>\n      <td>False</td>\n      <td>True</td>\n      <td>False</td>\n      <td>False</td>\n      <td>False</td>\n      <td>False</td>\n      <td>False</td>\n      <td>False</td>\n      <td>False</td>\n      <td>False</td>\n    </tr>\n    <tr>\n      <th>2</th>\n      <td>False</td>\n      <td>False</td>\n      <td>False</td>\n      <td>False</td>\n      <td>False</td>\n      <td>False</td>\n      <td>False</td>\n      <td>False</td>\n      <td>False</td>\n      <td>False</td>\n      <td>...</td>\n      <td>False</td>\n      <td>False</td>\n      <td>False</td>\n      <td>False</td>\n      <td>False</td>\n      <td>False</td>\n      <td>False</td>\n      <td>False</td>\n      <td>False</td>\n      <td>False</td>\n    </tr>\n    <tr>\n      <th>3</th>\n      <td>False</td>\n      <td>False</td>\n      <td>False</td>\n      <td>False</td>\n      <td>False</td>\n      <td>False</td>\n      <td>False</td>\n      <td>False</td>\n      <td>False</td>\n      <td>True</td>\n      <td>...</td>\n      <td>False</td>\n      <td>False</td>\n      <td>False</td>\n      <td>False</td>\n      <td>False</td>\n      <td>False</td>\n      <td>False</td>\n      <td>False</td>\n      <td>False</td>\n      <td>False</td>\n    </tr>\n    <tr>\n      <th>4</th>\n      <td>False</td>\n      <td>False</td>\n      <td>False</td>\n      <td>False</td>\n      <td>False</td>\n      <td>False</td>\n      <td>False</td>\n      <td>False</td>\n      <td>False</td>\n      <td>False</td>\n      <td>...</td>\n      <td>False</td>\n      <td>False</td>\n      <td>False</td>\n      <td>False</td>\n      <td>False</td>\n      <td>False</td>\n      <td>False</td>\n      <td>False</td>\n      <td>False</td>\n      <td>False</td>\n    </tr>\n    <tr>\n      <th>...</th>\n      <td>...</td>\n      <td>...</td>\n      <td>...</td>\n      <td>...</td>\n      <td>...</td>\n      <td>...</td>\n      <td>...</td>\n      <td>...</td>\n      <td>...</td>\n      <td>...</td>\n      <td>...</td>\n      <td>...</td>\n      <td>...</td>\n      <td>...</td>\n      <td>...</td>\n      <td>...</td>\n      <td>...</td>\n      <td>...</td>\n      <td>...</td>\n      <td>...</td>\n      <td>...</td>\n    </tr>\n    <tr>\n      <th>11547</th>\n      <td>False</td>\n      <td>False</td>\n      <td>False</td>\n      <td>False</td>\n      <td>False</td>\n      <td>False</td>\n      <td>False</td>\n      <td>False</td>\n      <td>False</td>\n      <td>False</td>\n      <td>...</td>\n      <td>False</td>\n      <td>False</td>\n      <td>False</td>\n      <td>False</td>\n      <td>False</td>\n      <td>False</td>\n      <td>False</td>\n      <td>False</td>\n      <td>False</td>\n      <td>False</td>\n    </tr>\n    <tr>\n      <th>11548</th>\n      <td>False</td>\n      <td>False</td>\n      <td>False</td>\n      <td>False</td>\n      <td>False</td>\n      <td>False</td>\n      <td>False</td>\n      <td>False</td>\n      <td>False</td>\n      <td>False</td>\n      <td>...</td>\n      <td>False</td>\n      <td>False</td>\n      <td>False</td>\n      <td>False</td>\n      <td>False</td>\n      <td>False</td>\n      <td>False</td>\n      <td>False</td>\n      <td>False</td>\n      <td>False</td>\n    </tr>\n    <tr>\n      <th>11549</th>\n      <td>False</td>\n      <td>False</td>\n      <td>False</td>\n      <td>False</td>\n      <td>False</td>\n      <td>False</td>\n      <td>False</td>\n      <td>False</td>\n      <td>False</td>\n      <td>False</td>\n      <td>...</td>\n      <td>False</td>\n      <td>False</td>\n      <td>False</td>\n      <td>False</td>\n      <td>False</td>\n      <td>False</td>\n      <td>False</td>\n      <td>False</td>\n      <td>False</td>\n      <td>False</td>\n    </tr>\n    <tr>\n      <th>11550</th>\n      <td>False</td>\n      <td>False</td>\n      <td>False</td>\n      <td>False</td>\n      <td>False</td>\n      <td>False</td>\n      <td>False</td>\n      <td>False</td>\n      <td>False</td>\n      <td>True</td>\n      <td>...</td>\n      <td>False</td>\n      <td>True</td>\n      <td>False</td>\n      <td>False</td>\n      <td>False</td>\n      <td>False</td>\n      <td>False</td>\n      <td>False</td>\n      <td>False</td>\n      <td>False</td>\n    </tr>\n    <tr>\n      <th>11551</th>\n      <td>False</td>\n      <td>False</td>\n      <td>False</td>\n      <td>False</td>\n      <td>False</td>\n      <td>False</td>\n      <td>False</td>\n      <td>False</td>\n      <td>False</td>\n      <td>False</td>\n      <td>...</td>\n      <td>False</td>\n      <td>False</td>\n      <td>False</td>\n      <td>False</td>\n      <td>False</td>\n      <td>False</td>\n      <td>False</td>\n      <td>False</td>\n      <td>False</td>\n      <td>False</td>\n    </tr>\n  </tbody>\n</table>\n<p>11398 rows \u00d7 85 columns</p>\n</div>",
                        "text/plain": "       Respondent  MainBranch  Hobbyist  OpenSourcer  OpenSource  Employment  \\\n0           False       False     False        False       False       False   \n1           False       False     False        False       False       False   \n2           False       False     False        False       False       False   \n3           False       False     False        False       False       False   \n4           False       False     False        False       False       False   \n...           ...         ...       ...          ...         ...         ...   \n11547       False       False     False        False       False       False   \n11548       False       False     False        False       False       False   \n11549       False       False     False        False       False       False   \n11550       False       False     False        False       False       False   \n11551       False       False     False        False       False       False   \n\n       Country  Student  EdLevel  UndergradMajor  ...  WelcomeChange  \\\n0        False    False    False           False  ...          False   \n1        False    False    False           False  ...          False   \n2        False    False    False           False  ...          False   \n3        False    False    False            True  ...          False   \n4        False    False    False           False  ...          False   \n...        ...      ...      ...             ...  ...            ...   \n11547    False    False    False           False  ...          False   \n11548    False    False    False           False  ...          False   \n11549    False    False    False           False  ...          False   \n11550    False    False    False            True  ...          False   \n11551    False    False    False           False  ...          False   \n\n       SONewContent    Age  Gender  Trans  Sexuality  Ethnicity  Dependents  \\\n0             False  False   False  False      False      False       False   \n1              True  False   False  False      False      False       False   \n2             False  False   False  False      False      False       False   \n3             False  False   False  False      False      False       False   \n4             False  False   False  False      False      False       False   \n...             ...    ...     ...    ...        ...        ...         ...   \n11547         False  False   False  False      False      False       False   \n11548         False  False   False  False      False      False       False   \n11549         False  False   False  False      False      False       False   \n11550          True  False   False  False      False      False       False   \n11551         False  False   False  False      False      False       False   \n\n       SurveyLength  SurveyEase  \n0             False       False  \n1             False       False  \n2             False       False  \n3             False       False  \n4             False       False  \n...             ...         ...  \n11547         False       False  \n11548         False       False  \n11549         False       False  \n11550         False       False  \n11551         False       False  \n\n[11398 rows x 85 columns]"
                    },
                    "execution_count": 7,
                    "metadata": {},
                    "output_type": "execute_result"
                }
            ],
            "source": "# your code goes here\ndf.isnull()"
        },
        {
            "cell_type": "markdown",
            "metadata": {},
            "source": "Find out how many rows are missing in the column 'WorkLoc'\n"
        },
        {
            "cell_type": "code",
            "execution_count": 16,
            "metadata": {},
            "outputs": [
                {
                    "data": {
                        "text/plain": "112"
                    },
                    "execution_count": 16,
                    "metadata": {},
                    "output_type": "execute_result"
                }
            ],
            "source": "# your code goes here\ndf['EdLevel'].isnull().sum()"
        },
        {
            "cell_type": "markdown",
            "metadata": {},
            "source": "## Imputing missing values\n"
        },
        {
            "cell_type": "markdown",
            "metadata": {},
            "source": "Find the  value counts for the column WorkLoc.\n"
        },
        {
            "cell_type": "code",
            "execution_count": 19,
            "metadata": {},
            "outputs": [
                {
                    "data": {
                        "text/plain": "Yearly     6073\nMonthly    4788\nWeekly      331\nName: CompFreq, dtype: int64"
                    },
                    "execution_count": 19,
                    "metadata": {},
                    "output_type": "execute_result"
                }
            ],
            "source": "# your code goes here\ndf['CompFreq'].value_counts()"
        },
        {
            "cell_type": "markdown",
            "metadata": {},
            "source": "Identify the value that is most frequent (majority) in the WorkLoc column.\n"
        },
        {
            "cell_type": "code",
            "execution_count": null,
            "metadata": {},
            "outputs": [],
            "source": "#make a note of the majority value here, for future reference\n#Office"
        },
        {
            "cell_type": "markdown",
            "metadata": {},
            "source": "Impute (replace) all the empty rows in the column WorkLoc with the value that you have identified as majority.\n"
        },
        {
            "cell_type": "code",
            "execution_count": 10,
            "metadata": {},
            "outputs": [],
            "source": "# your code goes here\ndf['WorkLoc'].fillna('Office', inplace=True)"
        },
        {
            "cell_type": "markdown",
            "metadata": {},
            "source": "After imputation there should ideally not be any empty rows in the WorkLoc column.\n"
        },
        {
            "cell_type": "markdown",
            "metadata": {},
            "source": "Verify if imputing was successful.\n"
        },
        {
            "cell_type": "code",
            "execution_count": 11,
            "metadata": {},
            "outputs": [
                {
                    "data": {
                        "text/plain": "0"
                    },
                    "execution_count": 11,
                    "metadata": {},
                    "output_type": "execute_result"
                }
            ],
            "source": "# your code goes here\ndf['WorkLoc'].isnull().sum()"
        },
        {
            "cell_type": "markdown",
            "metadata": {},
            "source": "## Normalizing data\n"
        },
        {
            "cell_type": "markdown",
            "metadata": {},
            "source": "There are two columns in the dataset that talk about compensation.\n\nOne is \"CompFreq\". This column shows how often a developer is paid (Yearly, Monthly, Weekly).\n\nThe other is \"CompTotal\". This column talks about how much the developer is paid per Year, Month, or Week depending upon his/her \"CompFreq\". \n\nThis makes it difficult to compare the total compensation of the developers.\n\nIn this section you will create a new column called 'NormalizedAnnualCompensation' which contains the 'Annual Compensation' irrespective of the 'CompFreq'.\n\nOnce this column is ready, it makes comparison of salaries easy.\n"
        },
        {
            "cell_type": "markdown",
            "metadata": {},
            "source": "<hr>\n"
        },
        {
            "cell_type": "markdown",
            "metadata": {},
            "source": "List out the various categories in the column 'CompFreq'\n"
        },
        {
            "cell_type": "code",
            "execution_count": 45,
            "metadata": {},
            "outputs": [
                {
                    "data": {
                        "text/plain": "Yearly     6073\nMonthly    4788\nWeekly      331\nName: CompFreq, dtype: int64"
                    },
                    "execution_count": 45,
                    "metadata": {},
                    "output_type": "execute_result"
                }
            ],
            "source": "# your code goes here\ndf['CompFreq'].value_counts()"
        },
        {
            "cell_type": "markdown",
            "metadata": {},
            "source": "Create a new column named 'NormalizedAnnualCompensation'. Use the hint given below if needed.\n"
        },
        {
            "cell_type": "markdown",
            "metadata": {},
            "source": "Double click to see the **Hint**.\n\n<!--\n\nUse the below logic to arrive at the values for the column NormalizedAnnualCompensation.\n\nIf the CompFreq is Yearly then use the exising value in CompTotal\nIf the CompFreq is Monthly then multiply the value in CompTotal with 12 (months in an year)\nIf the CompFreq is Weekly then multiply the value in CompTotal with 52 (weeks in an year)\n\n-->\n"
        },
        {
            "cell_type": "code",
            "execution_count": 41,
            "metadata": {},
            "outputs": [
                {
                    "data": {
                        "text/html": "<div>\n<style scoped>\n    .dataframe tbody tr th:only-of-type {\n        vertical-align: middle;\n    }\n\n    .dataframe tbody tr th {\n        vertical-align: top;\n    }\n\n    .dataframe thead th {\n        text-align: right;\n    }\n</style>\n<table border=\"1\" class=\"dataframe\">\n  <thead>\n    <tr style=\"text-align: right;\">\n      <th></th>\n      <th>Respondent</th>\n      <th>MainBranch</th>\n      <th>Hobbyist</th>\n      <th>OpenSourcer</th>\n      <th>OpenSource</th>\n      <th>Employment</th>\n      <th>Country</th>\n      <th>Student</th>\n      <th>EdLevel</th>\n      <th>UndergradMajor</th>\n      <th>...</th>\n      <th>SONewContent</th>\n      <th>Age</th>\n      <th>Gender</th>\n      <th>Trans</th>\n      <th>Sexuality</th>\n      <th>Ethnicity</th>\n      <th>Dependents</th>\n      <th>SurveyLength</th>\n      <th>SurveyEase</th>\n      <th>NormalizedAnnualCompensation</th>\n    </tr>\n  </thead>\n  <tbody>\n    <tr>\n      <th>0</th>\n      <td>4</td>\n      <td>I am a developer by profession</td>\n      <td>No</td>\n      <td>Never</td>\n      <td>The quality of OSS and closed source software ...</td>\n      <td>Employed full-time</td>\n      <td>United States</td>\n      <td>No</td>\n      <td>Bachelor\u2019s degree (BA, BS, B.Eng., etc.)</td>\n      <td>Computer science, computer engineering, or sof...</td>\n      <td>...</td>\n      <td>Tech articles written by other developers;Indu...</td>\n      <td>22.0</td>\n      <td>Man</td>\n      <td>No</td>\n      <td>Straight / Heterosexual</td>\n      <td>White or of European descent</td>\n      <td>No</td>\n      <td>Appropriate in length</td>\n      <td>Easy</td>\n      <td>61000.0</td>\n    </tr>\n    <tr>\n      <th>1</th>\n      <td>9</td>\n      <td>I am a developer by profession</td>\n      <td>Yes</td>\n      <td>Once a month or more often</td>\n      <td>The quality of OSS and closed source software ...</td>\n      <td>Employed full-time</td>\n      <td>New Zealand</td>\n      <td>No</td>\n      <td>Some college/university study without earning ...</td>\n      <td>Computer science, computer engineering, or sof...</td>\n      <td>...</td>\n      <td>NaN</td>\n      <td>23.0</td>\n      <td>Man</td>\n      <td>No</td>\n      <td>Bisexual</td>\n      <td>White or of European descent</td>\n      <td>No</td>\n      <td>Appropriate in length</td>\n      <td>Neither easy nor difficult</td>\n      <td>138000.0</td>\n    </tr>\n    <tr>\n      <th>2</th>\n      <td>13</td>\n      <td>I am a developer by profession</td>\n      <td>Yes</td>\n      <td>Less than once a month but more than once per ...</td>\n      <td>OSS is, on average, of HIGHER quality than pro...</td>\n      <td>Employed full-time</td>\n      <td>United States</td>\n      <td>No</td>\n      <td>Master\u2019s degree (MA, MS, M.Eng., MBA, etc.)</td>\n      <td>Computer science, computer engineering, or sof...</td>\n      <td>...</td>\n      <td>Tech articles written by other developers;Cour...</td>\n      <td>28.0</td>\n      <td>Man</td>\n      <td>No</td>\n      <td>Straight / Heterosexual</td>\n      <td>White or of European descent</td>\n      <td>Yes</td>\n      <td>Appropriate in length</td>\n      <td>Easy</td>\n      <td>90000.0</td>\n    </tr>\n    <tr>\n      <th>3</th>\n      <td>16</td>\n      <td>I am a developer by profession</td>\n      <td>Yes</td>\n      <td>Never</td>\n      <td>The quality of OSS and closed source software ...</td>\n      <td>Employed full-time</td>\n      <td>United Kingdom</td>\n      <td>No</td>\n      <td>Master\u2019s degree (MA, MS, M.Eng., MBA, etc.)</td>\n      <td>NaN</td>\n      <td>...</td>\n      <td>Tech articles written by other developers;Indu...</td>\n      <td>26.0</td>\n      <td>Man</td>\n      <td>No</td>\n      <td>Straight / Heterosexual</td>\n      <td>White or of European descent</td>\n      <td>No</td>\n      <td>Appropriate in length</td>\n      <td>Neither easy nor difficult</td>\n      <td>348000.0</td>\n    </tr>\n    <tr>\n      <th>4</th>\n      <td>17</td>\n      <td>I am a developer by profession</td>\n      <td>Yes</td>\n      <td>Less than once a month but more than once per ...</td>\n      <td>The quality of OSS and closed source software ...</td>\n      <td>Employed full-time</td>\n      <td>Australia</td>\n      <td>No</td>\n      <td>Bachelor\u2019s degree (BA, BS, B.Eng., etc.)</td>\n      <td>Computer science, computer engineering, or sof...</td>\n      <td>...</td>\n      <td>Tech articles written by other developers;Indu...</td>\n      <td>29.0</td>\n      <td>Man</td>\n      <td>No</td>\n      <td>Straight / Heterosexual</td>\n      <td>Hispanic or Latino/Latina;Multiracial</td>\n      <td>No</td>\n      <td>Appropriate in length</td>\n      <td>Easy</td>\n      <td>90000.0</td>\n    </tr>\n    <tr>\n      <th>5</th>\n      <td>19</td>\n      <td>I am a developer by profession</td>\n      <td>Yes</td>\n      <td>Never</td>\n      <td>The quality of OSS and closed source software ...</td>\n      <td>Employed full-time</td>\n      <td>Brazil</td>\n      <td>No</td>\n      <td>Some college/university study without earning ...</td>\n      <td>Computer science, computer engineering, or sof...</td>\n      <td>...</td>\n      <td>Tech articles written by other developers;Indu...</td>\n      <td>31.0</td>\n      <td>Man</td>\n      <td>No</td>\n      <td>Straight / Heterosexual</td>\n      <td>Hispanic or Latino/Latina</td>\n      <td>Yes</td>\n      <td>Too long</td>\n      <td>Easy</td>\n      <td>114000.0</td>\n    </tr>\n    <tr>\n      <th>6</th>\n      <td>20</td>\n      <td>I am not primarily a developer, but I write co...</td>\n      <td>No</td>\n      <td>Never</td>\n      <td>OSS is, on average, of HIGHER quality than pro...</td>\n      <td>Employed full-time</td>\n      <td>Lithuania</td>\n      <td>No</td>\n      <td>Master\u2019s degree (MA, MS, M.Eng., MBA, etc.)</td>\n      <td>Information systems, information technology, o...</td>\n      <td>...</td>\n      <td>Tech articles written by other developers</td>\n      <td>38.0</td>\n      <td>Man</td>\n      <td>No</td>\n      <td>Straight / Heterosexual</td>\n      <td>White or of European descent</td>\n      <td>Yes</td>\n      <td>Appropriate in length</td>\n      <td>Easy</td>\n      <td>36000.0</td>\n    </tr>\n    <tr>\n      <th>7</th>\n      <td>22</td>\n      <td>I am a developer by profession</td>\n      <td>Yes</td>\n      <td>Less than once per year</td>\n      <td>OSS is, on average, of HIGHER quality than pro...</td>\n      <td>Employed full-time</td>\n      <td>United States</td>\n      <td>No</td>\n      <td>Some college/university study without earning ...</td>\n      <td>NaN</td>\n      <td>...</td>\n      <td>Tech articles written by other developers;Indu...</td>\n      <td>47.0</td>\n      <td>Man</td>\n      <td>No</td>\n      <td>Straight / Heterosexual</td>\n      <td>White or of European descent</td>\n      <td>Yes</td>\n      <td>Appropriate in length</td>\n      <td>Easy</td>\n      <td>103000.0</td>\n    </tr>\n    <tr>\n      <th>8</th>\n      <td>23</td>\n      <td>I am a developer by profession</td>\n      <td>Yes</td>\n      <td>Less than once per year</td>\n      <td>The quality of OSS and closed source software ...</td>\n      <td>Employed full-time</td>\n      <td>United States</td>\n      <td>No</td>\n      <td>Bachelor\u2019s degree (BA, BS, B.Eng., etc.)</td>\n      <td>Information systems, information technology, o...</td>\n      <td>...</td>\n      <td>Tech articles written by other developers;Tech...</td>\n      <td>22.0</td>\n      <td>Man</td>\n      <td>No</td>\n      <td>Straight / Heterosexual</td>\n      <td>Black or of African descent</td>\n      <td>No</td>\n      <td>Appropriate in length</td>\n      <td>Easy</td>\n      <td>69000.0</td>\n    </tr>\n    <tr>\n      <th>9</th>\n      <td>24</td>\n      <td>I am a developer by profession</td>\n      <td>Yes</td>\n      <td>Never</td>\n      <td>OSS is, on average, of HIGHER quality than pro...</td>\n      <td>Employed full-time</td>\n      <td>Israel</td>\n      <td>No</td>\n      <td>Primary/elementary school</td>\n      <td>NaN</td>\n      <td>...</td>\n      <td>Tech articles written by other developers;Indu...</td>\n      <td>23.0</td>\n      <td>Man</td>\n      <td>No</td>\n      <td>Straight / Heterosexual</td>\n      <td>Middle Eastern</td>\n      <td>No</td>\n      <td>Appropriate in length</td>\n      <td>Easy</td>\n      <td>96000.0</td>\n    </tr>\n    <tr>\n      <th>10</th>\n      <td>25</td>\n      <td>I am a developer by profession</td>\n      <td>No</td>\n      <td>Never</td>\n      <td>OSS is, on average, of HIGHER quality than pro...</td>\n      <td>Employed full-time</td>\n      <td>South Africa</td>\n      <td>No</td>\n      <td>Associate degree</td>\n      <td>Computer science, computer engineering, or sof...</td>\n      <td>...</td>\n      <td>Tech meetups or events in your area</td>\n      <td>22.0</td>\n      <td>Man</td>\n      <td>No</td>\n      <td>Straight / Heterosexual</td>\n      <td>White or of European descent</td>\n      <td>No</td>\n      <td>Too short</td>\n      <td>Neither easy nor difficult</td>\n      <td>84000.0</td>\n    </tr>\n    <tr>\n      <th>11</th>\n      <td>26</td>\n      <td>I am a developer by profession</td>\n      <td>Yes</td>\n      <td>Less than once per year</td>\n      <td>The quality of OSS and closed source software ...</td>\n      <td>Employed full-time</td>\n      <td>United States</td>\n      <td>No</td>\n      <td>Some college/university study without earning ...</td>\n      <td>Computer science, computer engineering, or sof...</td>\n      <td>...</td>\n      <td>NaN</td>\n      <td>34.0</td>\n      <td>Man</td>\n      <td>No</td>\n      <td>Gay or Lesbian</td>\n      <td>NaN</td>\n      <td>No</td>\n      <td>Appropriate in length</td>\n      <td>Easy</td>\n      <td>114000.0</td>\n    </tr>\n    <tr>\n      <th>12</th>\n      <td>29</td>\n      <td>I am a developer by profession</td>\n      <td>Yes</td>\n      <td>Less than once a month but more than once per ...</td>\n      <td>OSS is, on average, of HIGHER quality than pro...</td>\n      <td>Employed full-time</td>\n      <td>United States</td>\n      <td>No</td>\n      <td>Bachelor\u2019s degree (BA, BS, B.Eng., etc.)</td>\n      <td>NaN</td>\n      <td>...</td>\n      <td>Tech articles written by other developers;Cour...</td>\n      <td>32.0</td>\n      <td>Man</td>\n      <td>No</td>\n      <td>Straight / Heterosexual</td>\n      <td>White or of European descent</td>\n      <td>Yes</td>\n      <td>Appropriate in length</td>\n      <td>Easy</td>\n      <td>104000.0</td>\n    </tr>\n    <tr>\n      <th>13</th>\n      <td>32</td>\n      <td>I am a developer by profession</td>\n      <td>No</td>\n      <td>Never</td>\n      <td>The quality of OSS and closed source software ...</td>\n      <td>Employed full-time</td>\n      <td>United States</td>\n      <td>No</td>\n      <td>Associate degree</td>\n      <td>Information systems, information technology, o...</td>\n      <td>...</td>\n      <td>Tech articles written by other developers;Indu...</td>\n      <td>21.0</td>\n      <td>Man</td>\n      <td>No</td>\n      <td>Straight / Heterosexual</td>\n      <td>White or of European descent</td>\n      <td>No</td>\n      <td>Appropriate in length</td>\n      <td>Neither easy nor difficult</td>\n      <td>1144000.0</td>\n    </tr>\n    <tr>\n      <th>14</th>\n      <td>38</td>\n      <td>I am a developer by profession</td>\n      <td>Yes</td>\n      <td>Never</td>\n      <td>OSS is, on average, of LOWER quality than prop...</td>\n      <td>Employed full-time</td>\n      <td>Czech Republic</td>\n      <td>No</td>\n      <td>Master\u2019s degree (MA, MS, M.Eng., MBA, etc.)</td>\n      <td>Computer science, computer engineering, or sof...</td>\n      <td>...</td>\n      <td>NaN</td>\n      <td>44.0</td>\n      <td>Man</td>\n      <td>No</td>\n      <td>NaN</td>\n      <td>NaN</td>\n      <td>Yes</td>\n      <td>Appropriate in length</td>\n      <td>Neither easy nor difficult</td>\n      <td>1152000.0</td>\n    </tr>\n    <tr>\n      <th>15</th>\n      <td>39</td>\n      <td>I am a developer by profession</td>\n      <td>Yes</td>\n      <td>Less than once per year</td>\n      <td>The quality of OSS and closed source software ...</td>\n      <td>Employed full-time</td>\n      <td>United States</td>\n      <td>No</td>\n      <td>Bachelor\u2019s degree (BA, BS, B.Eng., etc.)</td>\n      <td>Computer science, computer engineering, or sof...</td>\n      <td>...</td>\n      <td>Tech articles written by other developers</td>\n      <td>42.0</td>\n      <td>Man</td>\n      <td>No</td>\n      <td>Bisexual</td>\n      <td>White or of European descent</td>\n      <td>No</td>\n      <td>Appropriate in length</td>\n      <td>Easy</td>\n      <td>156000.0</td>\n    </tr>\n    <tr>\n      <th>16</th>\n      <td>43</td>\n      <td>I am a developer by profession</td>\n      <td>Yes</td>\n      <td>Less than once per year</td>\n      <td>OSS is, on average, of HIGHER quality than pro...</td>\n      <td>Employed full-time</td>\n      <td>Spain</td>\n      <td>No</td>\n      <td>Bachelor\u2019s degree (BA, BS, B.Eng., etc.)</td>\n      <td>Computer science, computer engineering, or sof...</td>\n      <td>...</td>\n      <td>Tech articles written by other developers;Tech...</td>\n      <td>27.0</td>\n      <td>Man</td>\n      <td>No</td>\n      <td>Straight / Heterosexual</td>\n      <td>Hispanic or Latino/Latina</td>\n      <td>No</td>\n      <td>Too long</td>\n      <td>Easy</td>\n      <td>18000.0</td>\n    </tr>\n    <tr>\n      <th>17</th>\n      <td>44</td>\n      <td>I am a developer by profession</td>\n      <td>Yes</td>\n      <td>Once a month or more often</td>\n      <td>The quality of OSS and closed source software ...</td>\n      <td>Employed full-time</td>\n      <td>Germany</td>\n      <td>No</td>\n      <td>Bachelor\u2019s degree (BA, BS, B.Eng., etc.)</td>\n      <td>Information systems, information technology, o...</td>\n      <td>...</td>\n      <td>Tech articles written by other developers;Indu...</td>\n      <td>43.0</td>\n      <td>Man</td>\n      <td>No</td>\n      <td>Straight / Heterosexual</td>\n      <td>White or of European descent</td>\n      <td>Yes</td>\n      <td>Appropriate in length</td>\n      <td>Easy</td>\n      <td>76800.0</td>\n    </tr>\n    <tr>\n      <th>18</th>\n      <td>49</td>\n      <td>I am a developer by profession</td>\n      <td>Yes</td>\n      <td>Less than once per year</td>\n      <td>The quality of OSS and closed source software ...</td>\n      <td>Employed full-time</td>\n      <td>Serbia</td>\n      <td>Yes, full-time</td>\n      <td>Some college/university study without earning ...</td>\n      <td>Computer science, computer engineering, or sof...</td>\n      <td>...</td>\n      <td>Tech articles written by other developers</td>\n      <td>34.0</td>\n      <td>Man</td>\n      <td>No</td>\n      <td>Straight / Heterosexual</td>\n      <td>White or of European descent</td>\n      <td>Yes</td>\n      <td>Too long</td>\n      <td>Easy</td>\n      <td>60000.0</td>\n    </tr>\n    <tr>\n      <th>19</th>\n      <td>50</td>\n      <td>I am a developer by profession</td>\n      <td>Yes</td>\n      <td>Once a month or more often</td>\n      <td>OSS is, on average, of LOWER quality than prop...</td>\n      <td>Employed full-time</td>\n      <td>India</td>\n      <td>No</td>\n      <td>Bachelor\u2019s degree (BA, BS, B.Eng., etc.)</td>\n      <td>Another engineering discipline (ex. civil, ele...</td>\n      <td>...</td>\n      <td>Tech articles written by other developers;Tech...</td>\n      <td>23.0</td>\n      <td>Man</td>\n      <td>No</td>\n      <td>NaN</td>\n      <td>South Asian</td>\n      <td>No</td>\n      <td>Too long</td>\n      <td>Easy</td>\n      <td>400000.0</td>\n    </tr>\n  </tbody>\n</table>\n<p>20 rows \u00d7 86 columns</p>\n</div>",
                        "text/plain": "    Respondent                                         MainBranch Hobbyist  \\\n0            4                     I am a developer by profession       No   \n1            9                     I am a developer by profession      Yes   \n2           13                     I am a developer by profession      Yes   \n3           16                     I am a developer by profession      Yes   \n4           17                     I am a developer by profession      Yes   \n5           19                     I am a developer by profession      Yes   \n6           20  I am not primarily a developer, but I write co...       No   \n7           22                     I am a developer by profession      Yes   \n8           23                     I am a developer by profession      Yes   \n9           24                     I am a developer by profession      Yes   \n10          25                     I am a developer by profession       No   \n11          26                     I am a developer by profession      Yes   \n12          29                     I am a developer by profession      Yes   \n13          32                     I am a developer by profession       No   \n14          38                     I am a developer by profession      Yes   \n15          39                     I am a developer by profession      Yes   \n16          43                     I am a developer by profession      Yes   \n17          44                     I am a developer by profession      Yes   \n18          49                     I am a developer by profession      Yes   \n19          50                     I am a developer by profession      Yes   \n\n                                          OpenSourcer  \\\n0                                               Never   \n1                          Once a month or more often   \n2   Less than once a month but more than once per ...   \n3                                               Never   \n4   Less than once a month but more than once per ...   \n5                                               Never   \n6                                               Never   \n7                             Less than once per year   \n8                             Less than once per year   \n9                                               Never   \n10                                              Never   \n11                            Less than once per year   \n12  Less than once a month but more than once per ...   \n13                                              Never   \n14                                              Never   \n15                            Less than once per year   \n16                            Less than once per year   \n17                         Once a month or more often   \n18                            Less than once per year   \n19                         Once a month or more often   \n\n                                           OpenSource          Employment  \\\n0   The quality of OSS and closed source software ...  Employed full-time   \n1   The quality of OSS and closed source software ...  Employed full-time   \n2   OSS is, on average, of HIGHER quality than pro...  Employed full-time   \n3   The quality of OSS and closed source software ...  Employed full-time   \n4   The quality of OSS and closed source software ...  Employed full-time   \n5   The quality of OSS and closed source software ...  Employed full-time   \n6   OSS is, on average, of HIGHER quality than pro...  Employed full-time   \n7   OSS is, on average, of HIGHER quality than pro...  Employed full-time   \n8   The quality of OSS and closed source software ...  Employed full-time   \n9   OSS is, on average, of HIGHER quality than pro...  Employed full-time   \n10  OSS is, on average, of HIGHER quality than pro...  Employed full-time   \n11  The quality of OSS and closed source software ...  Employed full-time   \n12  OSS is, on average, of HIGHER quality than pro...  Employed full-time   \n13  The quality of OSS and closed source software ...  Employed full-time   \n14  OSS is, on average, of LOWER quality than prop...  Employed full-time   \n15  The quality of OSS and closed source software ...  Employed full-time   \n16  OSS is, on average, of HIGHER quality than pro...  Employed full-time   \n17  The quality of OSS and closed source software ...  Employed full-time   \n18  The quality of OSS and closed source software ...  Employed full-time   \n19  OSS is, on average, of LOWER quality than prop...  Employed full-time   \n\n           Country         Student  \\\n0    United States              No   \n1      New Zealand              No   \n2    United States              No   \n3   United Kingdom              No   \n4        Australia              No   \n5           Brazil              No   \n6        Lithuania              No   \n7    United States              No   \n8    United States              No   \n9           Israel              No   \n10    South Africa              No   \n11   United States              No   \n12   United States              No   \n13   United States              No   \n14  Czech Republic              No   \n15   United States              No   \n16           Spain              No   \n17         Germany              No   \n18          Serbia  Yes, full-time   \n19           India              No   \n\n                                              EdLevel  \\\n0            Bachelor\u2019s degree (BA, BS, B.Eng., etc.)   \n1   Some college/university study without earning ...   \n2         Master\u2019s degree (MA, MS, M.Eng., MBA, etc.)   \n3         Master\u2019s degree (MA, MS, M.Eng., MBA, etc.)   \n4            Bachelor\u2019s degree (BA, BS, B.Eng., etc.)   \n5   Some college/university study without earning ...   \n6         Master\u2019s degree (MA, MS, M.Eng., MBA, etc.)   \n7   Some college/university study without earning ...   \n8            Bachelor\u2019s degree (BA, BS, B.Eng., etc.)   \n9                           Primary/elementary school   \n10                                   Associate degree   \n11  Some college/university study without earning ...   \n12           Bachelor\u2019s degree (BA, BS, B.Eng., etc.)   \n13                                   Associate degree   \n14        Master\u2019s degree (MA, MS, M.Eng., MBA, etc.)   \n15           Bachelor\u2019s degree (BA, BS, B.Eng., etc.)   \n16           Bachelor\u2019s degree (BA, BS, B.Eng., etc.)   \n17           Bachelor\u2019s degree (BA, BS, B.Eng., etc.)   \n18  Some college/university study without earning ...   \n19           Bachelor\u2019s degree (BA, BS, B.Eng., etc.)   \n\n                                       UndergradMajor  ...  \\\n0   Computer science, computer engineering, or sof...  ...   \n1   Computer science, computer engineering, or sof...  ...   \n2   Computer science, computer engineering, or sof...  ...   \n3                                                 NaN  ...   \n4   Computer science, computer engineering, or sof...  ...   \n5   Computer science, computer engineering, or sof...  ...   \n6   Information systems, information technology, o...  ...   \n7                                                 NaN  ...   \n8   Information systems, information technology, o...  ...   \n9                                                 NaN  ...   \n10  Computer science, computer engineering, or sof...  ...   \n11  Computer science, computer engineering, or sof...  ...   \n12                                                NaN  ...   \n13  Information systems, information technology, o...  ...   \n14  Computer science, computer engineering, or sof...  ...   \n15  Computer science, computer engineering, or sof...  ...   \n16  Computer science, computer engineering, or sof...  ...   \n17  Information systems, information technology, o...  ...   \n18  Computer science, computer engineering, or sof...  ...   \n19  Another engineering discipline (ex. civil, ele...  ...   \n\n                                         SONewContent   Age Gender Trans  \\\n0   Tech articles written by other developers;Indu...  22.0    Man    No   \n1                                                 NaN  23.0    Man    No   \n2   Tech articles written by other developers;Cour...  28.0    Man    No   \n3   Tech articles written by other developers;Indu...  26.0    Man    No   \n4   Tech articles written by other developers;Indu...  29.0    Man    No   \n5   Tech articles written by other developers;Indu...  31.0    Man    No   \n6           Tech articles written by other developers  38.0    Man    No   \n7   Tech articles written by other developers;Indu...  47.0    Man    No   \n8   Tech articles written by other developers;Tech...  22.0    Man    No   \n9   Tech articles written by other developers;Indu...  23.0    Man    No   \n10                Tech meetups or events in your area  22.0    Man    No   \n11                                                NaN  34.0    Man    No   \n12  Tech articles written by other developers;Cour...  32.0    Man    No   \n13  Tech articles written by other developers;Indu...  21.0    Man    No   \n14                                                NaN  44.0    Man    No   \n15          Tech articles written by other developers  42.0    Man    No   \n16  Tech articles written by other developers;Tech...  27.0    Man    No   \n17  Tech articles written by other developers;Indu...  43.0    Man    No   \n18          Tech articles written by other developers  34.0    Man    No   \n19  Tech articles written by other developers;Tech...  23.0    Man    No   \n\n                  Sexuality                              Ethnicity Dependents  \\\n0   Straight / Heterosexual           White or of European descent         No   \n1                  Bisexual           White or of European descent         No   \n2   Straight / Heterosexual           White or of European descent        Yes   \n3   Straight / Heterosexual           White or of European descent         No   \n4   Straight / Heterosexual  Hispanic or Latino/Latina;Multiracial         No   \n5   Straight / Heterosexual              Hispanic or Latino/Latina        Yes   \n6   Straight / Heterosexual           White or of European descent        Yes   \n7   Straight / Heterosexual           White or of European descent        Yes   \n8   Straight / Heterosexual            Black or of African descent         No   \n9   Straight / Heterosexual                         Middle Eastern         No   \n10  Straight / Heterosexual           White or of European descent         No   \n11           Gay or Lesbian                                    NaN         No   \n12  Straight / Heterosexual           White or of European descent        Yes   \n13  Straight / Heterosexual           White or of European descent         No   \n14                      NaN                                    NaN        Yes   \n15                 Bisexual           White or of European descent         No   \n16  Straight / Heterosexual              Hispanic or Latino/Latina         No   \n17  Straight / Heterosexual           White or of European descent        Yes   \n18  Straight / Heterosexual           White or of European descent        Yes   \n19                      NaN                            South Asian         No   \n\n             SurveyLength                  SurveyEase  \\\n0   Appropriate in length                        Easy   \n1   Appropriate in length  Neither easy nor difficult   \n2   Appropriate in length                        Easy   \n3   Appropriate in length  Neither easy nor difficult   \n4   Appropriate in length                        Easy   \n5                Too long                        Easy   \n6   Appropriate in length                        Easy   \n7   Appropriate in length                        Easy   \n8   Appropriate in length                        Easy   \n9   Appropriate in length                        Easy   \n10              Too short  Neither easy nor difficult   \n11  Appropriate in length                        Easy   \n12  Appropriate in length                        Easy   \n13  Appropriate in length  Neither easy nor difficult   \n14  Appropriate in length  Neither easy nor difficult   \n15  Appropriate in length                        Easy   \n16               Too long                        Easy   \n17  Appropriate in length                        Easy   \n18               Too long                        Easy   \n19               Too long                        Easy   \n\n   NormalizedAnnualCompensation  \n0                       61000.0  \n1                      138000.0  \n2                       90000.0  \n3                      348000.0  \n4                       90000.0  \n5                      114000.0  \n6                       36000.0  \n7                      103000.0  \n8                       69000.0  \n9                       96000.0  \n10                      84000.0  \n11                     114000.0  \n12                     104000.0  \n13                    1144000.0  \n14                    1152000.0  \n15                     156000.0  \n16                      18000.0  \n17                      76800.0  \n18                      60000.0  \n19                     400000.0  \n\n[20 rows x 86 columns]"
                    },
                    "execution_count": 41,
                    "metadata": {},
                    "output_type": "execute_result"
                }
            ],
            "source": "# your code goes here\n#for i in df['CompFreq']:\n   # if i==\"Yearly\":\n    #    df['NormalizedAnnualCompensation']=df['CompTotal'].mul(1,axis=0)\n    #elif i=='Monthly':\n     #   df['NormalizedAnnualCompensation']=df['CompTotal'].mul(12,axis=0)\n    #elif i=='Weekly':\n       # df['NormalizedAnnualCompensation']=df['CompTotal'].mul(52,axis=0)\n        \nimport numpy as np \ndf['NormalizedAnnualCompensation'] = np.where(\n    df['CompFreq'] == 'Weekly', df['CompTotal']*52, np.where(\n    df['CompFreq'] == 'Monthly', df['CompTotal']*12, df['CompTotal']))\ndf.head(20)"
        },
        {
            "cell_type": "code",
            "execution_count": 42,
            "metadata": {},
            "outputs": [
                {
                    "data": {
                        "text/plain": "100000.0"
                    },
                    "execution_count": 42,
                    "metadata": {},
                    "output_type": "execute_result"
                }
            ],
            "source": "df['NormalizedAnnualCompensation'].median()"
        },
        {
            "cell_type": "markdown",
            "metadata": {},
            "source": "## Authors\n"
        },
        {
            "cell_type": "markdown",
            "metadata": {},
            "source": "Ramesh Sannareddy\n"
        },
        {
            "cell_type": "markdown",
            "metadata": {},
            "source": "### Other Contributors\n"
        },
        {
            "cell_type": "markdown",
            "metadata": {},
            "source": "Rav Ahuja\n"
        },
        {
            "cell_type": "markdown",
            "metadata": {},
            "source": "## Change Log\n"
        },
        {
            "cell_type": "markdown",
            "metadata": {},
            "source": "| Date (YYYY-MM-DD) | Version | Changed By        | Change Description                 |\n| ----------------- | ------- | ----------------- | ---------------------------------- |\n| 2020-10-17        | 0.1     | Ramesh Sannareddy | Created initial version of the lab |\n"
        },
        {
            "cell_type": "markdown",
            "metadata": {},
            "source": " Copyright \u00a9 2020 IBM Corporation. This notebook and its source code are released under the terms of the [MIT License](https://cognitiveclass.ai/mit-license?cm_mmc=Email_Newsletter-_-Developer_Ed%2BTech-_-WW_WW-_-SkillsNetwork-Courses-IBM-DA0321EN-SkillsNetwork-21426264&cm_mmca1=000026UJ&cm_mmca2=10006555&cm_mmca3=M12345678&cvosrc=email.Newsletter.M12345678&cvo_campaign=000026UJ&cm_mmc=Email_Newsletter-_-Developer_Ed%2BTech-_-WW_WW-_-SkillsNetwork-Courses-IBM-DA0321EN-SkillsNetwork-21426264&cm_mmca1=000026UJ&cm_mmca2=10006555&cm_mmca3=M12345678&cvosrc=email.Newsletter.M12345678&cvo_campaign=000026UJ&cm_mmc=Email_Newsletter-_-Developer_Ed%2BTech-_-WW_WW-_-SkillsNetwork-Courses-IBM-DA0321EN-SkillsNetwork-21426264&cm_mmca1=000026UJ&cm_mmca2=10006555&cm_mmca3=M12345678&cvosrc=email.Newsletter.M12345678&cvo_campaign=000026UJ&cm_mmc=Email_Newsletter-_-Developer_Ed%2BTech-_-WW_WW-_-SkillsNetwork-Courses-IBM-DA0321EN-SkillsNetwork-21426264&cm_mmca1=000026UJ&cm_mmca2=10006555&cm_mmca3=M12345678&cvosrc=email.Newsletter.M12345678&cvo_campaign=000026UJ&cm_mmc=Email_Newsletter-_-Developer_Ed%2BTech-_-WW_WW-_-SkillsNetwork-Courses-IBM-DA0321EN-SkillsNetwork-21426264&cm_mmca1=000026UJ&cm_mmca2=10006555&cm_mmca3=M12345678&cvosrc=email.Newsletter.M12345678&cvo_campaign=000026UJ&cm_mmc=Email_Newsletter-_-Developer_Ed%2BTech-_-WW_WW-_-SkillsNetwork-Courses-IBM-DA0321EN-SkillsNetwork-21426264&cm_mmca1=000026UJ&cm_mmca2=10006555&cm_mmca3=M12345678&cvosrc=email.Newsletter.M12345678&cvo_campaign=000026UJ).\n"
        }
    ],
    "metadata": {
        "kernelspec": {
            "display_name": "Python 3.7",
            "language": "python",
            "name": "python3"
        },
        "language_info": {
            "codemirror_mode": {
                "name": "ipython",
                "version": 3
            },
            "file_extension": ".py",
            "mimetype": "text/x-python",
            "name": "python",
            "nbconvert_exporter": "python",
            "pygments_lexer": "ipython3",
            "version": "3.7.10"
        }
    },
    "nbformat": 4,
    "nbformat_minor": 4
}